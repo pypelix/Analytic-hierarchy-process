{
 "cells": [
  {
   "cell_type": "markdown",
   "metadata": {},
   "source": [
    "\n",
    "## Lab work 3\n",
    "\n",
    "## **Analytic hierarchy process. Simple Hierarchy**\n"
   ]
  },
  {
   "cell_type": "code",
   "execution_count": 1,
   "metadata": {},
   "outputs": [],
   "source": [
    "import numpy as np\n",
    "import matplotlib.pyplot as plt\n",
    "import seaborn as sns"
   ]
  },
  {
   "cell_type": "markdown",
   "metadata": {},
   "source": [
    "### **Simple Hierarchy:** there is one goal and a finite set of alternatives (4 alternatives in the below example),  from which the decision maker, is usually asked to select the best one. You can also read the [textbook](https://core.ac.uk/download/pdf/80714029.pdf)"
   ]
  },
  {
   "cell_type": "code",
   "execution_count": 2,
   "metadata": {},
   "outputs": [
    {
     "data": {
      "text/plain": [
       "array([[1.        , 3.        , 1.        , 0.16666667],\n",
       "       [0.33333333, 1.        , 0.5       , 0.25      ],\n",
       "       [1.        , 2.        , 1.        , 0.5       ],\n",
       "       [6.        , 4.        , 2.        , 1.        ]])"
      ]
     },
     "execution_count": 2,
     "metadata": {},
     "output_type": "execute_result"
    }
   ],
   "source": [
    "# pairwice comparison matrix\n",
    "\n",
    "A = np.array([[1, 3, 1, 1/6],\n",
    "             [1/3, 1, 1/2, 1/4],\n",
    "             [1, 2, 1, 1/2],\n",
    "             [6, 4, 2, 1]])\n",
    "A"
   ]
  },
  {
   "cell_type": "code",
   "execution_count": 3,
   "metadata": {},
   "outputs": [
    {
     "data": {
      "image/png": "[encoded data removed]",
      "text/plain": [
       "<Figure size 432x288 with 2 Axes>"
      ]
     },
     "metadata": {
      "needs_background": "light"
     },
     "output_type": "display_data"
    }
   ],
   "source": [
    "# visualization of matrix\n",
    "\n",
    "ax = sns.heatmap(A, annot = True)"
   ]
  },
  {
   "cell_type": "code",
   "execution_count": 4,
   "metadata": {},
   "outputs": [
    {
     "name": "stdout",
     "output_type": "stream",
     "text": [
      "largest eigenvalue:  4.235373544811489\n",
      "priority  vector:   [0.27961233 0.14669941 0.31540492 0.89488321]\n"
     ]
    }
   ],
   "source": [
    "# L - eigenvalues, v - eigenvectors\n",
    "L, v = np.linalg.eig(A)\n",
    "\n",
    "# eigenvalues can be complex, we calculate absolute values\n",
    "abs_L = np.abs(L)\n",
    "\n",
    "# max eigenvalue\n",
    "lambda_max = max(abs_L)\n",
    "print('largest eigenvalue: ',lambda_max)\n",
    "\n",
    "# eigenvector corresponding to the max eigenvalue\n",
    "i = np.argmax(abs_L)\n",
    "w = v[:, i]\n",
    "print('priority  vector:  ',np.abs(w))"
   ]
  },
  {
   "cell_type": "code",
   "execution_count": 5,
   "metadata": {},
   "outputs": [
    {
     "data": {
      "image/png": "[encoded data removed]",
      "text/plain": [
       "<Figure size 432x288 with 1 Axes>"
      ]
     },
     "metadata": {
      "needs_background": "light"
     },
     "output_type": "display_data"
    }
   ],
   "source": [
    "# visualization of priority vector\n",
    "\n",
    "x = ['alternative 1', 'alternative 2', 'alternative 3', 'alternative 4']\n",
    "ax = sns.barplot(x, y = np.abs(w))"
   ]
  },
  {
   "cell_type": "markdown",
   "metadata": {},
   "source": [
    "#### Consistency"
   ]
  },
  {
   "cell_type": "markdown",
   "metadata": {},
   "source": [
    "Consistency Index"
   ]
  },
  {
   "cell_type": "code",
   "execution_count": 6,
   "metadata": {},
   "outputs": [
    {
     "name": "stdout",
     "output_type": "stream",
     "text": [
      "Consistency Index:  0.07845784827049644\n"
     ]
    }
   ],
   "source": [
    "# n is number of alternatives\n",
    "n = 4\n",
    "\n",
    "cons_index = (lambda_max - n)/(n - 1)\n",
    "print('Consistency Index: ',cons_index)"
   ]
  },
  {
   "cell_type": "markdown",
   "metadata": {},
   "source": [
    "Consistency Ratio\n",
    "\n",
    "\\begin{array}{*{20}{c}}\n",
    "  n&3&4&5&6&7&8&9&{10} \\\\ \n",
    "  {R{I_n}}&{0.5247}&{0.8816}&{1.1086}&{1.2479}&{1.3417}&{1.4057}&{1.4499}&{1.4854} \n",
    "\\end{array}"
   ]
  },
  {
   "cell_type": "code",
   "execution_count": 7,
   "metadata": {},
   "outputs": [
    {
     "name": "stdout",
     "output_type": "stream",
     "text": [
      "Consistency Ratio:  0.08899483696744151\n"
     ]
    }
   ],
   "source": [
    "cons_ratio = cons_index/0.8816\n",
    "print('Consistency Ratio: ',cons_ratio)"
   ]
  }
 ],
 "metadata": {
  "kernelspec": {
   "display_name": "Python 3",
   "language": "python",
   "name": "python3"
  },
  "language_info": {
   "codemirror_mode": {
    "name": "ipython",
    "version": 3
   },
   "file_extension": ".py",
   "mimetype": "text/x-python",
   "name": "python",
   "nbconvert_exporter": "python",
   "pygments_lexer": "ipython3",
   "version": "3.7.6"
  }
 },
 "nbformat": 4,
 "nbformat_minor": 4
}
