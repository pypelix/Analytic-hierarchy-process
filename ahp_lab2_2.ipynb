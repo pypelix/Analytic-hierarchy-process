{
 "cells": [
  {
   "cell_type": "markdown",
   "metadata": {},
   "source": [
    "\n",
    "## **Analytic Hierarchy Process (AHP)**\n"
   ]
  },
  {
   "cell_type": "code",
   "execution_count": 1,
   "metadata": {},
   "outputs": [],
   "source": [
    "import numpy as np\n",
    "import matplotlib.pyplot as plt"
   ]
  },
  {
   "cell_type": "markdown",
   "metadata": {},
   "source": [
    "### The example of AHP using Python (the task, explanations, figures in markdown cells are taken from [Analytic hierarchy process – leader example](https://en.wikipedia.org/wiki/Analytic_hierarchy_process_–_leader_example) (From Wikipedia, the free encyclopedia))\n",
    "\n",
    "This example describes the use of the AHP in choosing a leader for a company whose founder is about to retire. There are several competing candidates and several competing criteria for choosing the most suitable one. By using the AHP, the board of directors is able to choose the best candidate in a rational, transparent way that can be examined and understood by all concerned.\n",
    "\n",
    "The three candidates are Tom, Dick, and Harry. Summaries of their backgrounds are shown below:\n",
    "\n",
    "![Image](https://upload.wikimedia.org/wikipedia/commons/6/64/AHP_TDHBiographies.png)\n",
    "\n",
    "The AHP hierarchy for this decision is shown below. As the decision makers continue with the AHP, they will determine priorities for the candidates with respect to each of the decision criteria, and priorities for each of the criteria with respect to their importance in reaching the goal. The priorities will then be combined throughout the hierarchy to give an overall priority for each candidate. The candidate with the highest priority will be the most suitable Alternative, and the ratios of the candidates' priorities will indicate their relative strengths with respect to the Goal.\n",
    "\n",
    "![Image](https://upload.wikimedia.org/wikipedia/commons/d/db/AHPHierarchy1Labeled.png)\n",
    "\n",
    "\n",
    "\n"
   ]
  },
  {
   "cell_type": "markdown",
   "metadata": {},
   "source": [
    "### Pairwise Comparisons and Local Priorities\n",
    "\n",
    "![Image](https://upload.wikimedia.org/wikipedia/commons/f/f4/AHPFundamentalScaleModerately.png)"
   ]
  },
  {
   "cell_type": "markdown",
   "metadata": {},
   "source": [
    "![Image](https://upload.wikimedia.org/wikipedia/commons/8/8a/AHP_TDHExperienceGrid.png)\n",
    "![Image](https://upload.wikimedia.org/wikipedia/commons/4/45/AHP_TDHExperienceMatrix.png)"
   ]
  },
  {
   "cell_type": "code",
   "execution_count": 2,
   "metadata": {},
   "outputs": [
    {
     "data": {
      "text/plain": [
       "array([[1.        , 0.25      , 4.        ],\n",
       "       [4.        , 1.        , 9.        ],\n",
       "       [0.25      , 0.11111111, 1.        ]])"
      ]
     },
     "execution_count": 2,
     "metadata": {},
     "output_type": "execute_result"
    }
   ],
   "source": [
    "# pairwice comparison matrix with respect to EXPERIENCE\n",
    "M_EXPERIENCE = np.array([[1, 1/4, 4],\n",
    "                         [4, 1, 9],\n",
    "                         [1/4, 1/9, 1]])    \n",
    "\n",
    "M_EXPERIENCE"
   ]
  },
  {
   "cell_type": "code",
   "execution_count": 3,
   "metadata": {},
   "outputs": [],
   "source": [
    "# function for calculating the priority vector and consistency index with given pairwice comparison matrix A\n",
    "def prior_vec(A):\n",
    "    \n",
    "    # L - eigenvalues, v - eigenvectors\n",
    "    L, v = np.linalg.eig(A)\n",
    "    \n",
    "    # eigenvalues can be complex, we calculate absolute values\n",
    "    abs_L = np.abs(L)\n",
    "    \n",
    "    # max eigenvalue\n",
    "    lambda_max = max(abs_L)\n",
    "\n",
    "    # eigenvector corresponding to the max eigenvalue\n",
    "    i = np.argmax(abs_L)\n",
    "    W = v[:, i]\n",
    "    w = W/sum(W)\n",
    "    \n",
    "    # consistency index\n",
    "    n = A.shape[0]\n",
    "    cons_index = (lambda_max - n)/(n - 1)\n",
    "       \n",
    "    return cons_index, np.abs(w)"
   ]
  },
  {
   "cell_type": "markdown",
   "metadata": {},
   "source": [
    "![Image](https://www.researchgate.net/profile/Chutiphon_Srisawat/publication/260210777/figure/tbl1/AS:669374113394697@1536602633519/Average-random-index-RI-based-on-Matrix-Size-8.png)"
   ]
  },
  {
   "cell_type": "code",
   "execution_count": 4,
   "metadata": {},
   "outputs": [
    {
     "data": {
      "image/png": "[encoded data removed]",
      "text/plain": [
       "<Figure size 432x288 with 1 Axes>"
      ]
     },
     "metadata": {
      "needs_background": "light"
     },
     "output_type": "display_data"
    },
    {
     "name": "stdout",
     "output_type": "stream",
     "text": [
      "priority vector (EXPERIENCE) [0.2172 0.7171 0.0658]\n",
      "consistency index (EXPERIENCE) 0.0184\n",
      "consistency ratio (EXPERIENCE) 0.0355\n"
     ]
    }
   ],
   "source": [
    "# priority vector, consistency index, and consistency ratio with respect to EXPERIENCE\n",
    "\n",
    "# CI - consistency index, y_EXPERIENCE - priority vector\n",
    "CI, y_EXPERIENCE = prior_vec(M_EXPERIENCE)\n",
    "\n",
    "# CR - consistency ratio = CI/RI (see above)\n",
    "CR = CI/0.52\n",
    "\n",
    "# visualization\n",
    "labels = ['Tom', 'Dick', 'Harry']\n",
    "\n",
    "plt.bar(labels, y_EXPERIENCE)\n",
    "plt.show()\n",
    "\n",
    "print(f'priority vector (EXPERIENCE) {y_EXPERIENCE.round(4)}')\n",
    "print(f'consistency index (EXPERIENCE) {CI.round(4)}')\n",
    "print(f'consistency ratio (EXPERIENCE) {CR.round(4)}')"
   ]
  },
  {
   "cell_type": "markdown",
   "metadata": {},
   "source": [
    "![Image](https://upload.wikimedia.org/wikipedia/commons/2/29/AHP_TDHEducationGrid.png)\n",
    "![Image](https://upload.wikimedia.org/wikipedia/commons/7/75/AHP_TDHEducationMatrix.png)"
   ]
  },
  {
   "cell_type": "code",
   "execution_count": 5,
   "metadata": {},
   "outputs": [
    {
     "data": {
      "text/plain": [
       "array([[1.        , 3.        , 0.2       ],\n",
       "       [0.33333333, 1.        , 0.14285714],\n",
       "       [5.        , 7.        , 1.        ]])"
      ]
     },
     "execution_count": 5,
     "metadata": {},
     "output_type": "execute_result"
    }
   ],
   "source": [
    "# pairwice comparison matrix with respect to EDUCATION\n",
    "M_EDUCATION = np.array([[1, 3, 1/5],\n",
    "                        [1/3, 1, 1/7],\n",
    "                        [5, 7, 1]])\n",
    "                          \n",
    "M_EDUCATION"
   ]
  },
  {
   "cell_type": "code",
   "execution_count": 6,
   "metadata": {},
   "outputs": [
    {
     "data": {
      "image/png": "[encoded data removed]",
      "text/plain": [
       "<Figure size 432x288 with 1 Axes>"
      ]
     },
     "metadata": {
      "needs_background": "light"
     },
     "output_type": "display_data"
    },
    {
     "name": "stdout",
     "output_type": "stream",
     "text": [
      "priority vector (EDUCATION) [0.1884 0.081  0.7306]\n",
      "consistency index (EDUCATION) 0.0324\n",
      "consistency ratio (EDUCATION) 0.0624\n"
     ]
    }
   ],
   "source": [
    "# priority vector, consistency index, and consistency ratio with respect to EDUCATION\n",
    "\n",
    "# CI - consistency index, y_EDUCATION - priority vector\n",
    "CI, y_EDUCATION = prior_vec(M_EDUCATION)\n",
    "\n",
    "# CR - consistency ratio = CI/RI (see above)\n",
    "CR = CI/0.52\n",
    "\n",
    "# visualization\n",
    "plt.bar(labels, y_EDUCATION)\n",
    "plt.show()\n",
    "\n",
    "print(f'priority vector (EDUCATION) {y_EDUCATION.round(4)}')\n",
    "print(f'consistency index (EDUCATION) {CI.round(4)}')\n",
    "print(f'consistency ratio (EDUCATION) {CR.round(4)}')"
   ]
  },
  {
   "cell_type": "markdown",
   "metadata": {},
   "source": [
    "![Image](https://upload.wikimedia.org/wikipedia/commons/a/a3/AHP_TDHCharismaGrid.png)\n",
    "![Image](https://upload.wikimedia.org/wikipedia/commons/d/dc/AHP_TDHCharismaMatrixWPriorities.png)"
   ]
  },
  {
   "cell_type": "code",
   "execution_count": 7,
   "metadata": {},
   "outputs": [
    {
     "data": {
      "text/plain": [
       "array([[1.        , 5.        , 9.        ],\n",
       "       [0.2       , 1.        , 4.        ],\n",
       "       [0.11111111, 0.25      , 1.        ]])"
      ]
     },
     "execution_count": 7,
     "metadata": {},
     "output_type": "execute_result"
    }
   ],
   "source": [
    "# pairwice comparison matrix with respect to CHARISMA\n",
    "M_CHARISMA = np.array([[1, 5, 9],\n",
    "                       [1/5, 1, 4],\n",
    "                       [1/9, 1/4, 1]])\n",
    "\n",
    "M_CHARISMA"
   ]
  },
  {
   "cell_type": "code",
   "execution_count": 8,
   "metadata": {},
   "outputs": [
    {
     "data": {
      "image/png": "[encoded data removed]",
      "text/plain": [
       "<Figure size 432x288 with 1 Axes>"
      ]
     },
     "metadata": {
      "needs_background": "light"
     },
     "output_type": "display_data"
    },
    {
     "name": "stdout",
     "output_type": "stream",
     "text": [
      "priority vector (CHARISMA) [0.7429 0.1939 0.0633]\n",
      "consistency index (CHARISMA) 0.0356\n",
      "consistency ratio (CHARISMA) 0.0685\n"
     ]
    }
   ],
   "source": [
    "# priority vector, consistency index, and consistency ratio with respect to CHARISMA\n",
    "\n",
    "# CI - consistency index, y_CHARISMA - priority vector\n",
    "CI, y_CHARISMA = prior_vec(M_CHARISMA)\n",
    "\n",
    "# CR - consistency ratio = CI/RI (see above)\n",
    "CR = CI/0.52\n",
    "\n",
    "# visualization\n",
    "plt.bar(labels, y_CHARISMA)\n",
    "plt.show()\n",
    "\n",
    "print(f'priority vector (CHARISMA) {y_CHARISMA.round(4)}')\n",
    "print(f'consistency index (CHARISMA) {CI.round(4)}')\n",
    "print(f'consistency ratio (CHARISMA) {CR.round(4)}')"
   ]
  },
  {
   "cell_type": "markdown",
   "metadata": {},
   "source": [
    "![Image](https://upload.wikimedia.org/wikipedia/commons/6/67/AHP_TDHAgeGrid.png)\n",
    "![Image](https://upload.wikimedia.org/wikipedia/commons/d/d8/AHP_TDHAgeMatrixWPriorities.png)"
   ]
  },
  {
   "cell_type": "code",
   "execution_count": 9,
   "metadata": {},
   "outputs": [
    {
     "data": {
      "text/plain": [
       "array([[1.        , 0.33333333, 5.        ],\n",
       "       [3.        , 1.        , 9.        ],\n",
       "       [0.2       , 0.11111111, 1.        ]])"
      ]
     },
     "execution_count": 9,
     "metadata": {},
     "output_type": "execute_result"
    }
   ],
   "source": [
    "# pairwice comparison matrix with respect to AGE\n",
    "M_AGE = np.array([[1, 1/3, 5],\n",
    "                  [3, 1, 9],\n",
    "                  [1/5, 1/9, 1]])\n",
    "  \n",
    "M_AGE"
   ]
  },
  {
   "cell_type": "code",
   "execution_count": 10,
   "metadata": {},
   "outputs": [
    {
     "data": {
      "image/png": "[encoded data removed]",
      "text/plain": [
       "<Figure size 432x288 with 1 Axes>"
      ]
     },
     "metadata": {
      "needs_background": "light"
     },
     "output_type": "display_data"
    },
    {
     "name": "stdout",
     "output_type": "stream",
     "text": [
      "priority vector (AGE) [0.2654 0.6716 0.0629]\n",
      "consistency index (AGE) 0.0145\n",
      "consistency ratio (AGE) 0.0279\n"
     ]
    }
   ],
   "source": [
    "# priority vector, consistency index, and consistency ratio with respect to AGE\n",
    "\n",
    "# CI - consistency index, y_AGE - priority vector\n",
    "CI, y_AGE = prior_vec(M_AGE)\n",
    "\n",
    "# CR - consistency ratio = CI/RI (see above)\n",
    "CR = CI/0.52\n",
    "\n",
    "# visualization\n",
    "plt.bar(labels, y_AGE)\n",
    "plt.show()\n",
    "\n",
    "print(f'priority vector (AGE) {y_AGE.round(4)}')\n",
    "print(f'consistency index (AGE) {CI.round(4)}')\n",
    "print(f'consistency ratio (AGE) {CR.round(4)}')"
   ]
  },
  {
   "cell_type": "markdown",
   "metadata": {},
   "source": [
    "![Image](https://upload.wikimedia.org/wikipedia/commons/c/c4/AHP_TDHCriteriaGrid.png)\n",
    "![Image](https://upload.wikimedia.org/wikipedia/commons/d/d5/AHP_TDHCriteriaMatrixWPriorities.png)"
   ]
  },
  {
   "cell_type": "code",
   "execution_count": 11,
   "metadata": {},
   "outputs": [
    {
     "data": {
      "text/plain": [
       "array([[1.        , 4.        , 3.        , 7.        ],\n",
       "       [0.25      , 1.        , 0.33333333, 3.        ],\n",
       "       [0.33333333, 3.        , 1.        , 5.        ],\n",
       "       [0.14285714, 0.33333333, 0.2       , 1.        ]])"
      ]
     },
     "execution_count": 11,
     "metadata": {},
     "output_type": "execute_result"
    }
   ],
   "source": [
    "# pairwice comparison matrix with respect to reaching the Goal\n",
    "M_GOAL = np.array([[1, 4, 3, 7],\n",
    "                   [1/4, 1, 1/3, 3],\n",
    "                   [1/3, 3, 1, 5],\n",
    "                   [1/7, 1/3, 1/5, 1]])\n",
    "  \n",
    "M_GOAL"
   ]
  },
  {
   "cell_type": "code",
   "execution_count": 12,
   "metadata": {},
   "outputs": [
    {
     "data": {
      "image/png": "[encoded data removed]",
      "text/plain": [
       "<Figure size 432x288 with 1 Axes>"
      ]
     },
     "metadata": {
      "needs_background": "light"
     },
     "output_type": "display_data"
    },
    {
     "name": "stdout",
     "output_type": "stream",
     "text": [
      "priority vector (reaching the Goal) [0.5476 0.1266 0.2699 0.0559]\n",
      "consistency index (reaching the Goal) 0.0395\n",
      "consistency ratio (reaching the Goal) 0.0444\n"
     ]
    }
   ],
   "source": [
    "# priority vector, consistency index, and consistency ratio with respect to reaching the Goal\n",
    "\n",
    "# CI - consistency index, y_GOAL - priority vector\n",
    "CI, y_GOAL = prior_vec(M_GOAL)\n",
    "\n",
    "# CR - consistency ratio = CI/RI (see above)\n",
    "CR = CI/0.89\n",
    "\n",
    "# visualization\n",
    "labels = ['Experience', 'Education', 'Charisma', 'Age']\n",
    "\n",
    "plt.bar(labels, y_GOAL)\n",
    "plt.show()\n",
    "\n",
    "print(f'priority vector (reaching the Goal) {y_GOAL.round(4)}')\n",
    "print(f'consistency index (reaching the Goal) {CI.round(4)}')\n",
    "print(f'consistency ratio (reaching the Goal) {CR.round(4)}')"
   ]
  },
  {
   "cell_type": "markdown",
   "metadata": {},
   "source": [
    "### Global Priorities"
   ]
  },
  {
   "cell_type": "code",
   "execution_count": 13,
   "metadata": {},
   "outputs": [
    {
     "data": {
      "text/plain": [
       "array([[0.21716561, 0.1883941 , 0.74286662, 0.26543334],\n",
       "       [0.71706504, 0.08096123, 0.19388163, 0.67162545],\n",
       "       [0.06576935, 0.73064467, 0.06325174, 0.06294121]])"
      ]
     },
     "execution_count": 13,
     "metadata": {},
     "output_type": "execute_result"
    }
   ],
   "source": [
    "# matrix, consisting of local priority vectors of alternatives with respect to the EXPERIENCE, EDUCATION, CHARISMA, and AGE \n",
    "M_LOCAL = np.vstack ((y_EXPERIENCE, y_EDUCATION, y_CHARISMA, y_AGE)).T\n",
    "\n",
    "M_LOCAL"
   ]
  },
  {
   "cell_type": "code",
   "execution_count": 14,
   "metadata": {},
   "outputs": [
    {
     "data": {
      "image/png": "[encoded data removed]",
      "text/plain": [
       "<Figure size 432x288 with 1 Axes>"
      ]
     },
     "metadata": {
      "needs_background": "light"
     },
     "output_type": "display_data"
    },
    {
     "name": "stdout",
     "output_type": "stream",
     "text": [
      "Global priority vector [0.3581 0.4928 0.1491]\n"
     ]
    }
   ],
   "source": [
    "# global priority vector\n",
    "G = M_LOCAL@y_GOAL.T\n",
    "\n",
    "# visualization\n",
    "labels = ['Tom', 'Dick', 'Harry']\n",
    "\n",
    "plt.bar(labels, G)\n",
    "plt.show()\n",
    "\n",
    "print(f'Global priority vector {G.round(4)}')"
   ]
  },
  {
   "cell_type": "markdown",
   "metadata": {},
   "source": [
    "Based on the Board's choice of decision criteria, on their judgments about the relative importance of each, and on their judgments about each candidate with respect to each of the criteria, Dick, with a priority of 0.492, is by far the most suitable candidate. Tom, with a priority of 0.358, is second, and Harry, at 0.149, is third. The Board should choose Dick as the company's new leader."
   ]
  },
  {
   "cell_type": "markdown",
   "metadata": {},
   "source": [
    "![Image](https://upload.wikimedia.org/wikipedia/commons/thumb/a/a3/Cc.logo.circle.svg/40px-Cc.logo.circle.svg.png)  \n",
    "available under the [Creative Commons Attribution-ShareAlike License](https://creativecommons.org/licenses/by-sa/3.0/)"
   ]
  }
 ],
 "metadata": {
  "kernelspec": {
   "display_name": "Python 3 (ipykernel)",
   "language": "python",
   "name": "python3"
  },
  "language_info": {
   "codemirror_mode": {
    "name": "ipython",
    "version": 3
   },
   "file_extension": ".py",
   "mimetype": "text/x-python",
   "name": "python",
   "nbconvert_exporter": "python",
   "pygments_lexer": "ipython3",
   "version": "3.9.7"
  }
 },
 "nbformat": 4,
 "nbformat_minor": 4
}
